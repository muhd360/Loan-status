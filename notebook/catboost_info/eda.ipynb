{
 "cells": [
  {
   "cell_type": "code",
   "execution_count": 5,
   "metadata": {},
   "outputs": [
    {
     "ename": "PydanticImportError",
     "evalue": "`BaseSettings` has been moved to the `pydantic-settings` package. See https://docs.pydantic.dev/2.7/migration/#basesettings-has-moved-to-pydantic-settings for more details.\n\nFor further information visit https://errors.pydantic.dev/2.7/u/import-error",
     "output_type": "error",
     "traceback": [
      "\u001b[0;31m---------------------------------------------------------------------------\u001b[0m",
      "\u001b[0;31mPydanticImportError\u001b[0m                       Traceback (most recent call last)",
      "\u001b[1;32m/home/muhd/Desktop/python-proj/mlproject/notebook/catboost_info/eda.ipynb Cell 1\u001b[0m line \u001b[0;36m2\n\u001b[1;32m      <a href='vscode-notebook-cell:/home/muhd/Desktop/python-proj/mlproject/notebook/catboost_info/eda.ipynb#W0sZmlsZQ%3D%3D?line=0'>1</a>\u001b[0m \u001b[39mimport\u001b[39;00m \u001b[39mpandas\u001b[39;00m \u001b[39mas\u001b[39;00m \u001b[39mpd\u001b[39;00m\n\u001b[0;32m----> <a href='vscode-notebook-cell:/home/muhd/Desktop/python-proj/mlproject/notebook/catboost_info/eda.ipynb#W0sZmlsZQ%3D%3D?line=1'>2</a>\u001b[0m \u001b[39mfrom\u001b[39;00m \u001b[39mpandas_profiling\u001b[39;00m \u001b[39mimport\u001b[39;00m ProfileReport\n\u001b[1;32m      <a href='vscode-notebook-cell:/home/muhd/Desktop/python-proj/mlproject/notebook/catboost_info/eda.ipynb#W0sZmlsZQ%3D%3D?line=3'>4</a>\u001b[0m df \u001b[39m=\u001b[39m pd\u001b[39m.\u001b[39mread_csv(\u001b[39m\"\u001b[39m\u001b[39m/home/muhd/Desktop/python-proj/mlproject/src/components/artifacts/train.csv\u001b[39m\u001b[39m\"\u001b[39m)\n\u001b[1;32m      <a href='vscode-notebook-cell:/home/muhd/Desktop/python-proj/mlproject/notebook/catboost_info/eda.ipynb#W0sZmlsZQ%3D%3D?line=5'>6</a>\u001b[0m profile \u001b[39m=\u001b[39m ProfileReport(df, title\u001b[39m=\u001b[39m\u001b[39m\"\u001b[39m\u001b[39mPandas Profiling Report\u001b[39m\u001b[39m\"\u001b[39m)\n",
      "File \u001b[0;32m~/Desktop/python-proj/myenv/lib/python3.8/site-packages/pandas_profiling/__init__.py:8\u001b[0m\n\u001b[1;32m      1\u001b[0m \u001b[39m\"\"\"Main module of pandas-profiling.\u001b[39;00m\n\u001b[1;32m      2\u001b[0m \n\u001b[1;32m      3\u001b[0m \u001b[39m.. include:: ../../README.md\u001b[39;00m\n\u001b[1;32m      4\u001b[0m \u001b[39m\"\"\"\u001b[39;00m\n\u001b[1;32m      6\u001b[0m \u001b[39mfrom\u001b[39;00m \u001b[39mwarnings\u001b[39;00m \u001b[39mimport\u001b[39;00m warn\n\u001b[0;32m----> 8\u001b[0m \u001b[39mfrom\u001b[39;00m \u001b[39mpandas_profiling\u001b[39;00m\u001b[39m.\u001b[39;00m\u001b[39mcompare_reports\u001b[39;00m \u001b[39mimport\u001b[39;00m compare\n\u001b[1;32m      9\u001b[0m \u001b[39mfrom\u001b[39;00m \u001b[39mpandas_profiling\u001b[39;00m\u001b[39m.\u001b[39;00m\u001b[39mcontroller\u001b[39;00m \u001b[39mimport\u001b[39;00m pandas_decorator\n\u001b[1;32m     10\u001b[0m \u001b[39mfrom\u001b[39;00m \u001b[39mpandas_profiling\u001b[39;00m\u001b[39m.\u001b[39;00m\u001b[39mprofile_report\u001b[39;00m \u001b[39mimport\u001b[39;00m ProfileReport\n",
      "File \u001b[0;32m~/Desktop/python-proj/myenv/lib/python3.8/site-packages/pandas_profiling/compare_reports.py:6\u001b[0m\n\u001b[1;32m      2\u001b[0m \u001b[39mfrom\u001b[39;00m \u001b[39mtyping\u001b[39;00m \u001b[39mimport\u001b[39;00m Any, List, Optional, Tuple, Union\n\u001b[1;32m      4\u001b[0m \u001b[39mimport\u001b[39;00m \u001b[39mpandas\u001b[39;00m \u001b[39mas\u001b[39;00m \u001b[39mpd\u001b[39;00m\n\u001b[0;32m----> 6\u001b[0m \u001b[39mfrom\u001b[39;00m \u001b[39mpandas_profiling\u001b[39;00m\u001b[39m.\u001b[39;00m\u001b[39mconfig\u001b[39;00m \u001b[39mimport\u001b[39;00m Correlation, Settings\n\u001b[1;32m      7\u001b[0m \u001b[39mfrom\u001b[39;00m \u001b[39mpandas_profiling\u001b[39;00m\u001b[39m.\u001b[39;00m\u001b[39mmodel\u001b[39;00m\u001b[39m.\u001b[39;00m\u001b[39malerts\u001b[39;00m \u001b[39mimport\u001b[39;00m Alert\n\u001b[1;32m      8\u001b[0m \u001b[39mfrom\u001b[39;00m \u001b[39mpandas_profiling\u001b[39;00m\u001b[39m.\u001b[39;00m\u001b[39mprofile_report\u001b[39;00m \u001b[39mimport\u001b[39;00m ProfileReport\n",
      "File \u001b[0;32m~/Desktop/python-proj/myenv/lib/python3.8/site-packages/pandas_profiling/config.py:7\u001b[0m\n\u001b[1;32m      4\u001b[0m \u001b[39mfrom\u001b[39;00m \u001b[39mtyping\u001b[39;00m \u001b[39mimport\u001b[39;00m Any, Dict, List, Optional, Tuple, Union\n\u001b[1;32m      6\u001b[0m \u001b[39mimport\u001b[39;00m \u001b[39myaml\u001b[39;00m\n\u001b[0;32m----> 7\u001b[0m \u001b[39mfrom\u001b[39;00m \u001b[39mpydantic\u001b[39;00m \u001b[39mimport\u001b[39;00m BaseModel, BaseSettings, Field, PrivateAttr\n\u001b[1;32m     10\u001b[0m \u001b[39mdef\u001b[39;00m \u001b[39m_merge_dictionaries\u001b[39m(dict1: \u001b[39mdict\u001b[39m, dict2: \u001b[39mdict\u001b[39m) \u001b[39m-\u001b[39m\u001b[39m>\u001b[39m \u001b[39mdict\u001b[39m:\n\u001b[1;32m     11\u001b[0m \u001b[39m    \u001b[39m\u001b[39m\"\"\"\u001b[39;00m\n\u001b[1;32m     12\u001b[0m \u001b[39m    Recursive merge dictionaries.\u001b[39;00m\n\u001b[1;32m     13\u001b[0m \n\u001b[0;32m   (...)\u001b[0m\n\u001b[1;32m     16\u001b[0m \u001b[39m    :return: Merged dictionary\u001b[39;00m\n\u001b[1;32m     17\u001b[0m \u001b[39m    \"\"\"\u001b[39;00m\n",
      "File \u001b[0;32m~/Desktop/python-proj/myenv/lib/python3.8/site-packages/pydantic/__init__.py:386\u001b[0m, in \u001b[0;36m__getattr__\u001b[0;34m(attr_name)\u001b[0m\n\u001b[1;32m    384\u001b[0m dynamic_attr \u001b[39m=\u001b[39m _dynamic_imports\u001b[39m.\u001b[39mget(attr_name)\n\u001b[1;32m    385\u001b[0m \u001b[39mif\u001b[39;00m dynamic_attr \u001b[39mis\u001b[39;00m \u001b[39mNone\u001b[39;00m:\n\u001b[0;32m--> 386\u001b[0m     \u001b[39mreturn\u001b[39;00m _getattr_migration(attr_name)\n\u001b[1;32m    388\u001b[0m package, module_name \u001b[39m=\u001b[39m dynamic_attr\n\u001b[1;32m    390\u001b[0m \u001b[39mfrom\u001b[39;00m \u001b[39mimportlib\u001b[39;00m \u001b[39mimport\u001b[39;00m import_module\n",
      "File \u001b[0;32m~/Desktop/python-proj/myenv/lib/python3.8/site-packages/pydantic/_migration.py:296\u001b[0m, in \u001b[0;36mgetattr_migration.<locals>.wrapper\u001b[0;34m(name)\u001b[0m\n\u001b[1;32m    294\u001b[0m     \u001b[39mreturn\u001b[39;00m import_string(REDIRECT_TO_V1[import_path])\n\u001b[1;32m    295\u001b[0m \u001b[39mif\u001b[39;00m import_path \u001b[39m==\u001b[39m \u001b[39m'\u001b[39m\u001b[39mpydantic:BaseSettings\u001b[39m\u001b[39m'\u001b[39m:\n\u001b[0;32m--> 296\u001b[0m     \u001b[39mraise\u001b[39;00m PydanticImportError(\n\u001b[1;32m    297\u001b[0m         \u001b[39m'\u001b[39m\u001b[39m`BaseSettings` has been moved to the `pydantic-settings` package. \u001b[39m\u001b[39m'\u001b[39m\n\u001b[1;32m    298\u001b[0m         \u001b[39mf\u001b[39m\u001b[39m'\u001b[39m\u001b[39mSee https://docs.pydantic.dev/\u001b[39m\u001b[39m{\u001b[39;00mversion_short()\u001b[39m}\u001b[39;00m\u001b[39m/migration/#basesettings-has-moved-to-pydantic-settings \u001b[39m\u001b[39m'\u001b[39m\n\u001b[1;32m    299\u001b[0m         \u001b[39m'\u001b[39m\u001b[39mfor more details.\u001b[39m\u001b[39m'\u001b[39m\n\u001b[1;32m    300\u001b[0m     )\n\u001b[1;32m    301\u001b[0m \u001b[39mif\u001b[39;00m import_path \u001b[39min\u001b[39;00m REMOVED_IN_V2:\n\u001b[1;32m    302\u001b[0m     \u001b[39mraise\u001b[39;00m PydanticImportError(\u001b[39mf\u001b[39m\u001b[39m'\u001b[39m\u001b[39m`\u001b[39m\u001b[39m{\u001b[39;00mimport_path\u001b[39m}\u001b[39;00m\u001b[39m` has been removed in V2.\u001b[39m\u001b[39m'\u001b[39m)\n",
      "\u001b[0;31mPydanticImportError\u001b[0m: `BaseSettings` has been moved to the `pydantic-settings` package. See https://docs.pydantic.dev/2.7/migration/#basesettings-has-moved-to-pydantic-settings for more details.\n\nFor further information visit https://errors.pydantic.dev/2.7/u/import-error"
     ]
    }
   ],
   "source": [
    "import pandas as pd\n",
    "from pandas_profiling import ProfileReport\n",
    "\n",
    "df = pd.read_csv(\"/home/muhd/Desktop/python-proj/mlproject/src/components/artifacts/train.csv\")\n",
    "\n",
    "profile = ProfileReport(df, title=\"Pandas Profiling Report\")\n",
    "profile.to_file(\"report.html\")"
   ]
  },
  {
   "cell_type": "code",
   "execution_count": 8,
   "metadata": {},
   "outputs": [
    {
     "name": "stdout",
     "output_type": "stream",
     "text": [
      "Found existing installation: pydantic 2.7.4\n",
      "Uninstalling pydantic-2.7.4:\n",
      "  Would remove:\n",
      "    /home/muhd/Desktop/python-proj/myenv/lib/python3.8/site-packages/pydantic-2.7.4.dist-info/*\n",
      "    /home/muhd/Desktop/python-proj/myenv/lib/python3.8/site-packages/pydantic/*\n",
      "Proceed (Y/n)? ^C\n",
      "\u001b[31mERROR: Operation cancelled by user\u001b[0m\u001b[31m\n",
      "\u001b[0mNote: you may need to restart the kernel to use updated packages.\n"
     ]
    }
   ],
   "source": [
    "pip uninstall pydantic\n"
   ]
  },
  {
   "cell_type": "code",
   "execution_count": 2,
   "metadata": {},
   "outputs": [
    {
     "name": "stdout",
     "output_type": "stream",
     "text": [
      "Collecting sweetviz\n",
      "  Downloading sweetviz-2.3.1-py3-none-any.whl.metadata (24 kB)\n",
      "Requirement already satisfied: pandas!=1.0.0,!=1.0.1,!=1.0.2,>=0.25.3 in /home/muhd/Desktop/python-proj/myenv/lib/python3.8/site-packages (from sweetviz) (2.0.3)\n",
      "Requirement already satisfied: numpy>=1.16.0 in /home/muhd/Desktop/python-proj/myenv/lib/python3.8/site-packages (from sweetviz) (1.24.4)\n",
      "Requirement already satisfied: matplotlib>=3.1.3 in /home/muhd/Desktop/python-proj/myenv/lib/python3.8/site-packages (from sweetviz) (3.7.5)\n",
      "Requirement already satisfied: tqdm>=4.43.0 in /home/muhd/Desktop/python-proj/myenv/lib/python3.8/site-packages (from sweetviz) (4.66.4)\n",
      "Requirement already satisfied: scipy>=1.3.2 in /home/muhd/Desktop/python-proj/myenv/lib/python3.8/site-packages (from sweetviz) (1.10.1)\n",
      "Requirement already satisfied: jinja2>=2.11.1 in /home/muhd/Desktop/python-proj/myenv/lib/python3.8/site-packages (from sweetviz) (3.1.3)\n",
      "Requirement already satisfied: importlib-resources>=1.2.0 in /home/muhd/Desktop/python-proj/myenv/lib/python3.8/site-packages (from sweetviz) (6.4.0)\n",
      "Requirement already satisfied: zipp>=3.1.0 in /home/muhd/Desktop/python-proj/myenv/lib/python3.8/site-packages (from importlib-resources>=1.2.0->sweetviz) (3.18.1)\n",
      "Requirement already satisfied: MarkupSafe>=2.0 in /home/muhd/Desktop/python-proj/myenv/lib/python3.8/site-packages (from jinja2>=2.11.1->sweetviz) (2.1.5)\n",
      "Requirement already satisfied: contourpy>=1.0.1 in /home/muhd/Desktop/python-proj/myenv/lib/python3.8/site-packages (from matplotlib>=3.1.3->sweetviz) (1.1.1)\n",
      "Requirement already satisfied: cycler>=0.10 in /home/muhd/Desktop/python-proj/myenv/lib/python3.8/site-packages (from matplotlib>=3.1.3->sweetviz) (0.12.1)\n",
      "Requirement already satisfied: fonttools>=4.22.0 in /home/muhd/Desktop/python-proj/myenv/lib/python3.8/site-packages (from matplotlib>=3.1.3->sweetviz) (4.51.0)\n",
      "Requirement already satisfied: kiwisolver>=1.0.1 in /home/muhd/Desktop/python-proj/myenv/lib/python3.8/site-packages (from matplotlib>=3.1.3->sweetviz) (1.4.5)\n",
      "Requirement already satisfied: packaging>=20.0 in /home/muhd/Desktop/python-proj/myenv/lib/python3.8/site-packages (from matplotlib>=3.1.3->sweetviz) (24.0)\n",
      "Requirement already satisfied: pillow>=6.2.0 in /home/muhd/Desktop/python-proj/myenv/lib/python3.8/site-packages (from matplotlib>=3.1.3->sweetviz) (10.3.0)\n",
      "Requirement already satisfied: pyparsing>=2.3.1 in /home/muhd/Desktop/python-proj/myenv/lib/python3.8/site-packages (from matplotlib>=3.1.3->sweetviz) (3.1.2)\n",
      "Requirement already satisfied: python-dateutil>=2.7 in /home/muhd/Desktop/python-proj/myenv/lib/python3.8/site-packages (from matplotlib>=3.1.3->sweetviz) (2.9.0.post0)\n",
      "Requirement already satisfied: pytz>=2020.1 in /home/muhd/Desktop/python-proj/myenv/lib/python3.8/site-packages (from pandas!=1.0.0,!=1.0.1,!=1.0.2,>=0.25.3->sweetviz) (2024.1)\n",
      "Requirement already satisfied: tzdata>=2022.1 in /home/muhd/Desktop/python-proj/myenv/lib/python3.8/site-packages (from pandas!=1.0.0,!=1.0.1,!=1.0.2,>=0.25.3->sweetviz) (2024.1)\n",
      "Requirement already satisfied: six>=1.5 in /home/muhd/Desktop/python-proj/myenv/lib/python3.8/site-packages (from python-dateutil>=2.7->matplotlib>=3.1.3->sweetviz) (1.16.0)\n",
      "Downloading sweetviz-2.3.1-py3-none-any.whl (15.1 MB)\n",
      "\u001b[2K   \u001b[90m━━━━━━━━━━━━━━━━━━━━━━━━━━━━━━━━━━━━━━━━\u001b[0m \u001b[32m15.1/15.1 MB\u001b[0m \u001b[31m5.6 MB/s\u001b[0m eta \u001b[36m0:00:00\u001b[0m00:01\u001b[0m00:01\u001b[0m\n",
      "\u001b[?25hInstalling collected packages: sweetviz\n",
      "Successfully installed sweetviz-2.3.1\n",
      "\n",
      "\u001b[1m[\u001b[0m\u001b[34;49mnotice\u001b[0m\u001b[1;39;49m]\u001b[0m\u001b[39;49m A new release of pip is available: \u001b[0m\u001b[31;49m24.0\u001b[0m\u001b[39;49m -> \u001b[0m\u001b[32;49m24.1.1\u001b[0m\n",
      "\u001b[1m[\u001b[0m\u001b[34;49mnotice\u001b[0m\u001b[1;39;49m]\u001b[0m\u001b[39;49m To update, run: \u001b[0m\u001b[32;49mpip install --upgrade pip\u001b[0m\n",
      "Note: you may need to restart the kernel to use updated packages.\n"
     ]
    }
   ],
   "source": [
    "pip install sweetviz"
   ]
  },
  {
   "cell_type": "code",
   "execution_count": 3,
   "metadata": {},
   "outputs": [
    {
     "name": "stderr",
     "output_type": "stream",
     "text": [
      "/home/muhd/Desktop/python-proj/myenv/lib/python3.8/site-packages/tqdm/auto.py:21: TqdmWarning: IProgress not found. Please update jupyter and ipywidgets. See https://ipywidgets.readthedocs.io/en/stable/user_install.html\n",
      "  from .autonotebook import tqdm as notebook_tqdm\n",
      "Done! Use 'show' commands to display/save.   |██████████| [100%]   00:00 -> (00:00 left)\n"
     ]
    },
    {
     "name": "stdout",
     "output_type": "stream",
     "text": [
      "Report SWEETVIZ_REPORT.html was generated! NOTEBOOK/COLAB USERS: the web browser MAY not pop up, regardless, the report IS saved in your notebook/colab files.\n"
     ]
    }
   ],
   "source": [
    "import sweetviz as sv\n",
    "import pandas as pd\n",
    "\n",
    "# Load your data into a Pandas DataFrame\n",
    "df = pd.read_csv(\"/home/muhd/Desktop/python-proj/mlproject/src/components/artifacts/train.csv\")\n",
    "\n",
    "# Create an analysis report for your data\n",
    "report = sv.analyze(df)\n",
    "\n",
    "# Display the report\n",
    "report.show_html()"
   ]
  },
  {
   "cell_type": "code",
   "execution_count": 4,
   "metadata": {},
   "outputs": [
    {
     "name": "stdout",
     "output_type": "stream",
     "text": [
      "Requirement already satisfied: pandas-profiling in /home/muhd/Desktop/python-proj/myenv/lib/python3.8/site-packages (3.6.6)\n",
      "Requirement already satisfied: ydata-profiling in /home/muhd/Desktop/python-proj/myenv/lib/python3.8/site-packages (from pandas-profiling) (4.8.3)\n",
      "Requirement already satisfied: scipy<1.14,>=1.4.1 in /home/muhd/Desktop/python-proj/myenv/lib/python3.8/site-packages (from ydata-profiling->pandas-profiling) (1.10.1)\n",
      "Requirement already satisfied: pandas!=1.4.0,<3,>1.1 in /home/muhd/Desktop/python-proj/myenv/lib/python3.8/site-packages (from ydata-profiling->pandas-profiling) (2.0.3)\n",
      "Requirement already satisfied: matplotlib<3.9,>=3.2 in /home/muhd/Desktop/python-proj/myenv/lib/python3.8/site-packages (from ydata-profiling->pandas-profiling) (3.7.5)\n",
      "Requirement already satisfied: pydantic>=2 in /home/muhd/Desktop/python-proj/myenv/lib/python3.8/site-packages (from ydata-profiling->pandas-profiling) (2.7.4)\n",
      "Requirement already satisfied: PyYAML<6.1,>=5.0.0 in /home/muhd/Desktop/python-proj/myenv/lib/python3.8/site-packages (from ydata-profiling->pandas-profiling) (6.0.1)\n",
      "Requirement already satisfied: jinja2<3.2,>=2.11.1 in /home/muhd/Desktop/python-proj/myenv/lib/python3.8/site-packages (from ydata-profiling->pandas-profiling) (3.1.3)\n",
      "Requirement already satisfied: visions<0.7.7,>=0.7.5 in /home/muhd/Desktop/python-proj/myenv/lib/python3.8/site-packages (from visions[type_image_path]<0.7.7,>=0.7.5->ydata-profiling->pandas-profiling) (0.7.6)\n",
      "Requirement already satisfied: numpy<2,>=1.16.0 in /home/muhd/Desktop/python-proj/myenv/lib/python3.8/site-packages (from ydata-profiling->pandas-profiling) (1.24.4)\n",
      "Requirement already satisfied: htmlmin==0.1.12 in /home/muhd/Desktop/python-proj/myenv/lib/python3.8/site-packages (from ydata-profiling->pandas-profiling) (0.1.12)\n",
      "Requirement already satisfied: phik<0.13,>=0.11.1 in /home/muhd/Desktop/python-proj/myenv/lib/python3.8/site-packages (from ydata-profiling->pandas-profiling) (0.12.4)\n",
      "Requirement already satisfied: requests<3,>=2.24.0 in /home/muhd/Desktop/python-proj/myenv/lib/python3.8/site-packages (from ydata-profiling->pandas-profiling) (2.32.3)\n",
      "Requirement already satisfied: tqdm<5,>=4.48.2 in /home/muhd/Desktop/python-proj/myenv/lib/python3.8/site-packages (from ydata-profiling->pandas-profiling) (4.66.4)\n",
      "Requirement already satisfied: seaborn<0.14,>=0.10.1 in /home/muhd/Desktop/python-proj/myenv/lib/python3.8/site-packages (from ydata-profiling->pandas-profiling) (0.13.2)\n",
      "Requirement already satisfied: multimethod<2,>=1.4 in /home/muhd/Desktop/python-proj/myenv/lib/python3.8/site-packages (from ydata-profiling->pandas-profiling) (1.10)\n",
      "Requirement already satisfied: statsmodels<1,>=0.13.2 in /home/muhd/Desktop/python-proj/myenv/lib/python3.8/site-packages (from ydata-profiling->pandas-profiling) (0.14.1)\n",
      "Requirement already satisfied: typeguard<5,>=3 in /home/muhd/Desktop/python-proj/myenv/lib/python3.8/site-packages (from ydata-profiling->pandas-profiling) (4.3.0)\n",
      "Requirement already satisfied: imagehash==4.3.1 in /home/muhd/Desktop/python-proj/myenv/lib/python3.8/site-packages (from ydata-profiling->pandas-profiling) (4.3.1)\n",
      "Requirement already satisfied: wordcloud>=1.9.1 in /home/muhd/Desktop/python-proj/myenv/lib/python3.8/site-packages (from ydata-profiling->pandas-profiling) (1.9.3)\n",
      "Requirement already satisfied: dacite>=1.8 in /home/muhd/Desktop/python-proj/myenv/lib/python3.8/site-packages (from ydata-profiling->pandas-profiling) (1.8.1)\n",
      "Requirement already satisfied: numba<1,>=0.56.0 in /home/muhd/Desktop/python-proj/myenv/lib/python3.8/site-packages (from ydata-profiling->pandas-profiling) (0.58.1)\n",
      "Requirement already satisfied: PyWavelets in /home/muhd/Desktop/python-proj/myenv/lib/python3.8/site-packages (from imagehash==4.3.1->ydata-profiling->pandas-profiling) (1.4.1)\n",
      "Requirement already satisfied: pillow in /home/muhd/Desktop/python-proj/myenv/lib/python3.8/site-packages (from imagehash==4.3.1->ydata-profiling->pandas-profiling) (10.3.0)\n",
      "Requirement already satisfied: MarkupSafe>=2.0 in /home/muhd/Desktop/python-proj/myenv/lib/python3.8/site-packages (from jinja2<3.2,>=2.11.1->ydata-profiling->pandas-profiling) (2.1.5)\n",
      "Requirement already satisfied: contourpy>=1.0.1 in /home/muhd/Desktop/python-proj/myenv/lib/python3.8/site-packages (from matplotlib<3.9,>=3.2->ydata-profiling->pandas-profiling) (1.1.1)\n",
      "Requirement already satisfied: cycler>=0.10 in /home/muhd/Desktop/python-proj/myenv/lib/python3.8/site-packages (from matplotlib<3.9,>=3.2->ydata-profiling->pandas-profiling) (0.12.1)\n",
      "Requirement already satisfied: fonttools>=4.22.0 in /home/muhd/Desktop/python-proj/myenv/lib/python3.8/site-packages (from matplotlib<3.9,>=3.2->ydata-profiling->pandas-profiling) (4.51.0)\n",
      "Requirement already satisfied: kiwisolver>=1.0.1 in /home/muhd/Desktop/python-proj/myenv/lib/python3.8/site-packages (from matplotlib<3.9,>=3.2->ydata-profiling->pandas-profiling) (1.4.5)\n",
      "Requirement already satisfied: packaging>=20.0 in /home/muhd/Desktop/python-proj/myenv/lib/python3.8/site-packages (from matplotlib<3.9,>=3.2->ydata-profiling->pandas-profiling) (24.0)\n",
      "Requirement already satisfied: pyparsing>=2.3.1 in /home/muhd/Desktop/python-proj/myenv/lib/python3.8/site-packages (from matplotlib<3.9,>=3.2->ydata-profiling->pandas-profiling) (3.1.2)\n",
      "Requirement already satisfied: python-dateutil>=2.7 in /home/muhd/Desktop/python-proj/myenv/lib/python3.8/site-packages (from matplotlib<3.9,>=3.2->ydata-profiling->pandas-profiling) (2.9.0.post0)\n",
      "Requirement already satisfied: importlib-resources>=3.2.0 in /home/muhd/Desktop/python-proj/myenv/lib/python3.8/site-packages (from matplotlib<3.9,>=3.2->ydata-profiling->pandas-profiling) (6.4.0)\n",
      "Requirement already satisfied: llvmlite<0.42,>=0.41.0dev0 in /home/muhd/Desktop/python-proj/myenv/lib/python3.8/site-packages (from numba<1,>=0.56.0->ydata-profiling->pandas-profiling) (0.41.1)\n",
      "Requirement already satisfied: importlib-metadata in /home/muhd/Desktop/python-proj/myenv/lib/python3.8/site-packages (from numba<1,>=0.56.0->ydata-profiling->pandas-profiling) (7.1.0)\n",
      "Requirement already satisfied: pytz>=2020.1 in /home/muhd/Desktop/python-proj/myenv/lib/python3.8/site-packages (from pandas!=1.4.0,<3,>1.1->ydata-profiling->pandas-profiling) (2024.1)\n",
      "Requirement already satisfied: tzdata>=2022.1 in /home/muhd/Desktop/python-proj/myenv/lib/python3.8/site-packages (from pandas!=1.4.0,<3,>1.1->ydata-profiling->pandas-profiling) (2024.1)\n",
      "Requirement already satisfied: joblib>=0.14.1 in /home/muhd/Desktop/python-proj/myenv/lib/python3.8/site-packages (from phik<0.13,>=0.11.1->ydata-profiling->pandas-profiling) (1.4.0)\n",
      "Requirement already satisfied: annotated-types>=0.4.0 in /home/muhd/Desktop/python-proj/myenv/lib/python3.8/site-packages (from pydantic>=2->ydata-profiling->pandas-profiling) (0.7.0)\n",
      "Requirement already satisfied: pydantic-core==2.18.4 in /home/muhd/Desktop/python-proj/myenv/lib/python3.8/site-packages (from pydantic>=2->ydata-profiling->pandas-profiling) (2.18.4)\n",
      "Requirement already satisfied: typing-extensions>=4.6.1 in /home/muhd/Desktop/python-proj/myenv/lib/python3.8/site-packages (from pydantic>=2->ydata-profiling->pandas-profiling) (4.12.2)\n",
      "Requirement already satisfied: charset-normalizer<4,>=2 in /home/muhd/Desktop/python-proj/myenv/lib/python3.8/site-packages (from requests<3,>=2.24.0->ydata-profiling->pandas-profiling) (3.3.2)\n",
      "Requirement already satisfied: idna<4,>=2.5 in /home/muhd/Desktop/python-proj/myenv/lib/python3.8/site-packages (from requests<3,>=2.24.0->ydata-profiling->pandas-profiling) (3.7)\n",
      "Requirement already satisfied: urllib3<3,>=1.21.1 in /home/muhd/Desktop/python-proj/myenv/lib/python3.8/site-packages (from requests<3,>=2.24.0->ydata-profiling->pandas-profiling) (2.2.2)\n",
      "Requirement already satisfied: certifi>=2017.4.17 in /home/muhd/Desktop/python-proj/myenv/lib/python3.8/site-packages (from requests<3,>=2.24.0->ydata-profiling->pandas-profiling) (2024.6.2)\n",
      "Requirement already satisfied: patsy>=0.5.4 in /home/muhd/Desktop/python-proj/myenv/lib/python3.8/site-packages (from statsmodels<1,>=0.13.2->ydata-profiling->pandas-profiling) (0.5.6)\n",
      "Requirement already satisfied: attrs>=19.3.0 in /home/muhd/Desktop/python-proj/myenv/lib/python3.8/site-packages (from visions<0.7.7,>=0.7.5->visions[type_image_path]<0.7.7,>=0.7.5->ydata-profiling->pandas-profiling) (23.2.0)\n",
      "Requirement already satisfied: networkx>=2.4 in /home/muhd/Desktop/python-proj/myenv/lib/python3.8/site-packages (from visions<0.7.7,>=0.7.5->visions[type_image_path]<0.7.7,>=0.7.5->ydata-profiling->pandas-profiling) (3.1)\n",
      "\u001b[33mWARNING: visions 0.7.6 does not provide the extra 'type-image-path'\u001b[0m\u001b[33m\n",
      "\u001b[0mRequirement already satisfied: zipp>=0.5 in /home/muhd/Desktop/python-proj/myenv/lib/python3.8/site-packages (from importlib-metadata->numba<1,>=0.56.0->ydata-profiling->pandas-profiling) (3.18.1)\n",
      "Requirement already satisfied: six in /home/muhd/Desktop/python-proj/myenv/lib/python3.8/site-packages (from patsy>=0.5.4->statsmodels<1,>=0.13.2->ydata-profiling->pandas-profiling) (1.16.0)\n",
      "\n",
      "\u001b[1m[\u001b[0m\u001b[34;49mnotice\u001b[0m\u001b[1;39;49m]\u001b[0m\u001b[39;49m A new release of pip is available: \u001b[0m\u001b[31;49m24.0\u001b[0m\u001b[39;49m -> \u001b[0m\u001b[32;49m24.1.1\u001b[0m\n",
      "\u001b[1m[\u001b[0m\u001b[34;49mnotice\u001b[0m\u001b[1;39;49m]\u001b[0m\u001b[39;49m To update, run: \u001b[0m\u001b[32;49mpip install --upgrade pip\u001b[0m\n",
      "Note: you may need to restart the kernel to use updated packages.\n"
     ]
    }
   ],
   "source": [
    "%pip install pandas-profiling\n"
   ]
  }
 ],
 "metadata": {
  "kernelspec": {
   "display_name": "myenv",
   "language": "python",
   "name": "python3"
  },
  "language_info": {
   "codemirror_mode": {
    "name": "ipython",
    "version": 3
   },
   "file_extension": ".py",
   "mimetype": "text/x-python",
   "name": "python",
   "nbconvert_exporter": "python",
   "pygments_lexer": "ipython3",
   "version": "3.8.10"
  }
 },
 "nbformat": 4,
 "nbformat_minor": 2
}
